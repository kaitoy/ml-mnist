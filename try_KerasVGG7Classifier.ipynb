{
 "cells": [
  {
   "cell_type": "code",
   "execution_count": 1,
   "metadata": {},
   "outputs": [
    {
     "name": "stderr",
     "output_type": "stream",
     "text": [
      "c:\\users\\kaitoy\\anaconda3\\envs\\ml-mnist\\lib\\site-packages\\h5py\\__init__.py:36: FutureWarning: Conversion of the second argument of issubdtype from `float` to `np.floating` is deprecated. In future, it will be treated as `np.float64 == np.dtype(float).type`.\n",
      "  from ._conv import register_converters as _register_converters\n",
      "Using TensorFlow backend.\n"
     ]
    }
   ],
   "source": [
    "from bin.lib.mnist import MNIST\n",
    "from matplotlib.pyplot import imshow\n",
    "from bin.lib.keras_vgg7 import KerasVGG7Classifier\n",
    "import numpy as np\n",
    "\n",
    "%matplotlib inline "
   ]
  },
  {
   "cell_type": "code",
   "execution_count": 2,
   "metadata": {},
   "outputs": [],
   "source": [
    "mnist = MNIST(\"mnist/t10k-images-idx3-ubyte\", \"mnist/t10k-labels-idx1-ubyte\")\n",
    "mnist.read()"
   ]
  },
  {
   "cell_type": "code",
   "execution_count": 30,
   "metadata": {},
   "outputs": [
    {
     "name": "stdout",
     "output_type": "stream",
     "text": [
      "1\n"
     ]
    },
    {
     "data": {
      "text/plain": [
       "<matplotlib.image.AxesImage at 0x227afea9240>"
      ]
     },
     "execution_count": 30,
     "metadata": {},
     "output_type": "execute_result"
    },
    {
     "data": {
      "image/png": "[encoded data removed]",
      "text/plain": [
       "<Figure size 432x288 with 1 Axes>"
      ]
     },
     "metadata": {},
     "output_type": "display_data"
    }
   ],
   "source": [
    "(img, label) = mnist.get(5)\n",
    "print(label)\n",
    "imshow(img.reshape((28,28)))"
   ]
  },
  {
   "cell_type": "code",
   "execution_count": 4,
   "metadata": {},
   "outputs": [],
   "source": [
    "mnist.preprocess()\n",
    "model = KerasVGG7Classifier()"
   ]
  },
  {
   "cell_type": "code",
   "execution_count": 5,
   "metadata": {},
   "outputs": [
    {
     "name": "stdout",
     "output_type": "stream",
     "text": [
      "Epoch 1/3\n",
      "60000/60000 [==============================] - 45s 757us/step - loss: 0.2242 - acc: 0.9332\n",
      "Epoch 2/3\n",
      "60000/60000 [==============================] - 45s 742us/step - loss: 0.0506 - acc: 0.9846\n",
      "Epoch 3/3\n",
      "60000/60000 [==============================] - 45s 742us/step - loss: 0.0332 - acc: 0.9898\n"
     ]
    }
   ],
   "source": [
    "model.fit(mnist, epochs=3)"
   ]
  },
  {
   "cell_type": "code",
   "execution_count": 7,
   "metadata": {},
   "outputs": [
    {
     "name": "stdout",
     "output_type": "stream",
     "text": [
      "pred: 2, actual: 2\n"
     ]
    }
   ],
   "source": [
    "(img, label) = mnist.get(5)\n",
    "pred = model.predict(img, 1)\n",
    "print(f\"pred: {pred[0]}, actual: {label.argmax()}\")"
   ]
  },
  {
   "cell_type": "code",
   "execution_count": 8,
   "metadata": {},
   "outputs": [],
   "source": [
    "mnist_test = MNIST(\"mnist/t10k-images-idx3-ubyte\", \"mnist/t10k-labels-idx1-ubyte\")\n",
    "mnist_test.read()\n",
    "mnist_test.preprocess()"
   ]
  },
  {
   "cell_type": "code",
   "execution_count": 9,
   "metadata": {},
   "outputs": [
    {
     "name": "stdout",
     "output_type": "stream",
     "text": [
      "10000/10000 [==============================] - 3s 254us/step\n",
      "loss: 0.03645790766477585, acc: 0.9880999995231629\n"
     ]
    }
   ],
   "source": [
    "ev = model.evaluate(mnist_test)\n",
    "print(f\"loss: {ev[0]}, acc: {ev[1]}\")"
   ]
  },
  {
   "cell_type": "code",
   "execution_count": null,
   "metadata": {},
   "outputs": [],
   "source": []
  }
 ],
 "metadata": {
  "kernelspec": {
   "display_name": "Python 3",
   "language": "python",
   "name": "python3"
  },
  "language_info": {
   "codemirror_mode": {
    "name": "ipython",
    "version": 3
   },
   "file_extension": ".py",
   "mimetype": "text/x-python",
   "name": "python",
   "nbconvert_exporter": "python",
   "pygments_lexer": "ipython3",
   "version": "3.6.4"
  }
 },
 "nbformat": 4,
 "nbformat_minor": 2
}
